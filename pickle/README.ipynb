{
 "cells": [
  {
   "cell_type": "markdown",
   "id": "e1063ab1",
   "metadata": {},
   "source": [
    "1️⃣ Qué son\n",
    "\n",
    "Son archivos “pickle”, usados para serializar objetos de Python.\n",
    "\n",
    "“Serializar” significa convertir un objeto de Python (modelo, lista, diccionario, DataFrame, etc.) en un flujo de bytes que se puede guardar en disco y luego recuperar intacto.\n",
    "\n",
    "El nombre .pkl viene de “pickle”, aunque algunas personas a veces los escriben mal como .pk1.\n",
    "\n",
    "2️⃣ Para qué se usan\n",
    "\n",
    "Guardar modelos de Machine Learning entrenados (RandomForest, XGBoost, etc.).\n",
    "\n",
    "Guardar estructuras de datos complejas para usarlas después sin recalcularlas.\n",
    "\n",
    "Transferir objetos entre programas Python."
   ]
  },
  {
   "cell_type": "markdown",
   "id": "34be7e6e",
   "metadata": {},
   "source": [
    "3️⃣ Cómo leer un archivo .pkl (pickle) en Python"
   ]
  },
  {
   "cell_type": "code",
   "execution_count": null,
   "id": "8f1b83c1",
   "metadata": {},
   "outputs": [],
   "source": [
    "import pickle\n",
    "\n",
    "# Cargar un modelo desde un archivo\n",
    "with open('modelo.pkl', 'rb') as f:\n",
    "    modelo = pickle.load(f)\n",
    "\n",
    "# Usar el modelo\n",
    "pred = modelo.predict([[1.0, 2.0, 3.0]])\n",
    "print(pred)"
   ]
  },
  {
   "cell_type": "markdown",
   "id": "f0796605",
   "metadata": {},
   "source": [
    "4️⃣ Cómo guardar un objeto en .pkl"
   ]
  },
  {
   "cell_type": "code",
   "execution_count": 1,
   "id": "0b011fab",
   "metadata": {},
   "outputs": [],
   "source": [
    "# --- 0. Importar librerías ---\n",
    "import pandas as pd\n",
    "from sklearn.ensemble import RandomForestClassifier\n",
    "import pickle"
   ]
  },
  {
   "cell_type": "code",
   "execution_count": 11,
   "id": "9b56d16f",
   "metadata": {},
   "outputs": [
    {
     "name": "stdout",
     "output_type": "stream",
     "text": [
      "📂 Leyendo archivos CSV...\n",
      "✅ Archivos cargados\n"
     ]
    },
    {
     "data": {
      "text/html": [
       "<div>\n",
       "<style scoped>\n",
       "    .dataframe tbody tr th:only-of-type {\n",
       "        vertical-align: middle;\n",
       "    }\n",
       "\n",
       "    .dataframe tbody tr th {\n",
       "        vertical-align: top;\n",
       "    }\n",
       "\n",
       "    .dataframe thead th {\n",
       "        text-align: right;\n",
       "    }\n",
       "</style>\n",
       "<table border=\"1\" class=\"dataframe\">\n",
       "  <thead>\n",
       "    <tr style=\"text-align: right;\">\n",
       "      <th></th>\n",
       "      <th>TIPO_TARIFA</th>\n",
       "      <th>MONTO_TRANSACCION</th>\n",
       "      <th>MEDIO_ACCESO</th>\n",
       "      <th>LATITUDE_USO</th>\n",
       "      <th>LONGITUDE_USO</th>\n",
       "    </tr>\n",
       "  </thead>\n",
       "  <tbody>\n",
       "    <tr>\n",
       "      <th>0</th>\n",
       "      <td>1</td>\n",
       "      <td>790</td>\n",
       "      <td>2</td>\n",
       "      <td>-38,73991</td>\n",
       "      <td>-72,59023</td>\n",
       "    </tr>\n",
       "    <tr>\n",
       "      <th>1</th>\n",
       "      <td>3</td>\n",
       "      <td>330</td>\n",
       "      <td>1</td>\n",
       "      <td>-38,73626</td>\n",
       "      <td>-72,59045</td>\n",
       "    </tr>\n",
       "    <tr>\n",
       "      <th>2</th>\n",
       "      <td>1</td>\n",
       "      <td>790</td>\n",
       "      <td>2</td>\n",
       "      <td>-38,73803</td>\n",
       "      <td>-72,58556</td>\n",
       "    </tr>\n",
       "    <tr>\n",
       "      <th>3</th>\n",
       "      <td>1</td>\n",
       "      <td>660</td>\n",
       "      <td>2</td>\n",
       "      <td>-38,73748</td>\n",
       "      <td>-72,58936</td>\n",
       "    </tr>\n",
       "    <tr>\n",
       "      <th>4</th>\n",
       "      <td>2</td>\n",
       "      <td>220</td>\n",
       "      <td>1</td>\n",
       "      <td>-38,7394</td>\n",
       "      <td>-72,58799</td>\n",
       "    </tr>\n",
       "  </tbody>\n",
       "</table>\n",
       "</div>"
      ],
      "text/plain": [
       "   TIPO_TARIFA  MONTO_TRANSACCION  MEDIO_ACCESO LATITUDE_USO LONGITUDE_USO\n",
       "0            1                790             2    -38,73991     -72,59023\n",
       "1            3                330             1    -38,73626     -72,59045\n",
       "2            1                790             2    -38,73803     -72,58556\n",
       "3            1                660             2    -38,73748     -72,58936\n",
       "4            2                220             1     -38,7394     -72,58799"
      ]
     },
     "execution_count": 11,
     "metadata": {},
     "output_type": "execute_result"
    }
   ],
   "source": [
    "## 1. Cargar los datos\n",
    "print(\"📂 Leyendo archivos CSV...\")\n",
    "\n",
    "train = pd.read_csv(\"../data/dtpr/train.csv\", sep=\";\", encoding=\"utf-8\")\n",
    "test = pd.read_csv(\"../data/dtpr/test.csv\", sep=\";\", encoding=\"utf-8\")\n",
    "\n",
    "print(\"✅ Archivos cargados\")\n",
    "train.head()"
   ]
  },
  {
   "cell_type": "code",
   "execution_count": 12,
   "id": "e5632f0b",
   "metadata": {},
   "outputs": [
    {
     "name": "stderr",
     "output_type": "stream",
     "text": [
      "C:\\Users\\Rodrigo\\AppData\\Local\\Temp\\ipykernel_13208\\2869261409.py:10: FutureWarning: A value is trying to be set on a copy of a DataFrame or Series through chained assignment using an inplace method.\n",
      "The behavior will change in pandas 3.0. This inplace method will never work because the intermediate object on which we are setting values always behaves as a copy.\n",
      "\n",
      "For example, when doing 'df[col].method(value, inplace=True)', try using 'df.method({col: value}, inplace=True)' or df[col] = df[col].method(value) instead, to perform the operation inplace on the original object.\n",
      "\n",
      "\n",
      "  df[\"LATITUDE_USO\"].fillna(df[\"LATITUDE_USO\"].median(), inplace=True)\n",
      "C:\\Users\\Rodrigo\\AppData\\Local\\Temp\\ipykernel_13208\\2869261409.py:11: FutureWarning: A value is trying to be set on a copy of a DataFrame or Series through chained assignment using an inplace method.\n",
      "The behavior will change in pandas 3.0. This inplace method will never work because the intermediate object on which we are setting values always behaves as a copy.\n",
      "\n",
      "For example, when doing 'df[col].method(value, inplace=True)', try using 'df.method({col: value}, inplace=True)' or df[col] = df[col].method(value) instead, to perform the operation inplace on the original object.\n",
      "\n",
      "\n",
      "  df[\"LONGITUDE_USO\"].fillna(df[\"LONGITUDE_USO\"].median(), inplace=True)\n",
      "C:\\Users\\Rodrigo\\AppData\\Local\\Temp\\ipykernel_13208\\2869261409.py:10: FutureWarning: A value is trying to be set on a copy of a DataFrame or Series through chained assignment using an inplace method.\n",
      "The behavior will change in pandas 3.0. This inplace method will never work because the intermediate object on which we are setting values always behaves as a copy.\n",
      "\n",
      "For example, when doing 'df[col].method(value, inplace=True)', try using 'df.method({col: value}, inplace=True)' or df[col] = df[col].method(value) instead, to perform the operation inplace on the original object.\n",
      "\n",
      "\n",
      "  df[\"LATITUDE_USO\"].fillna(df[\"LATITUDE_USO\"].median(), inplace=True)\n",
      "C:\\Users\\Rodrigo\\AppData\\Local\\Temp\\ipykernel_13208\\2869261409.py:11: FutureWarning: A value is trying to be set on a copy of a DataFrame or Series through chained assignment using an inplace method.\n",
      "The behavior will change in pandas 3.0. This inplace method will never work because the intermediate object on which we are setting values always behaves as a copy.\n",
      "\n",
      "For example, when doing 'df[col].method(value, inplace=True)', try using 'df.method({col: value}, inplace=True)' or df[col] = df[col].method(value) instead, to perform the operation inplace on the original object.\n",
      "\n",
      "\n",
      "  df[\"LONGITUDE_USO\"].fillna(df[\"LONGITUDE_USO\"].median(), inplace=True)\n"
     ]
    },
    {
     "ename": "NameError",
     "evalue": "name 'TARGET' is not defined",
     "output_type": "error",
     "traceback": [
      "\u001b[31m---------------------------------------------------------------------------\u001b[39m",
      "\u001b[31mNameError\u001b[39m                                 Traceback (most recent call last)",
      "\u001b[36mCell\u001b[39m\u001b[36m \u001b[39m\u001b[32mIn[12]\u001b[39m\u001b[32m, line 14\u001b[39m\n\u001b[32m     11\u001b[39m     df[\u001b[33m\"\u001b[39m\u001b[33mLONGITUDE_USO\u001b[39m\u001b[33m\"\u001b[39m].fillna(df[\u001b[33m\"\u001b[39m\u001b[33mLONGITUDE_USO\u001b[39m\u001b[33m\"\u001b[39m].median(), inplace=\u001b[38;5;28;01mTrue\u001b[39;00m)\n\u001b[32m     13\u001b[39m \u001b[38;5;66;03m# --- Eliminar columna objetivo en test ---\u001b[39;00m\n\u001b[32m---> \u001b[39m\u001b[32m14\u001b[39m \u001b[38;5;28;01mif\u001b[39;00m \u001b[43mTARGET\u001b[49m \u001b[38;5;129;01min\u001b[39;00m test_df_processed.columns:\n\u001b[32m     15\u001b[39m     test_df_processed = test_df_processed.drop(columns=[TARGET])\n\u001b[32m     17\u001b[39m \u001b[38;5;28mprint\u001b[39m(\u001b[33m\"\u001b[39m\u001b[33mDatos preprocesados (lat/long convertidos a float, test sin target).\u001b[39m\u001b[33m\"\u001b[39m)\n",
      "\u001b[31mNameError\u001b[39m: name 'TARGET' is not defined"
     ]
    }
   ],
   "source": [
    "## 2. Preprocesamiento de datos\n",
    "train_df_processed = train.copy()\n",
    "test_df_processed = test.copy()\n",
    "\n",
    "# --- Conversión de LAT y LONG ---\n",
    "for df in [train_df_processed, test_df_processed]:\n",
    "    df[\"LATITUDE_USO\"] = df[\"LATITUDE_USO\"].astype(str).str.replace(\",\", \".\", regex=False).astype(float)\n",
    "    df[\"LONGITUDE_USO\"] = df[\"LONGITUDE_USO\"].astype(str).str.replace(\",\", \".\", regex=False).astype(float)\n",
    "\n",
    "    df[\"LATITUDE_USO\"].fillna(df[\"LATITUDE_USO\"].median(), inplace=True)\n",
    "    df[\"LONGITUDE_USO\"].fillna(df[\"LONGITUDE_USO\"].median(), inplace=True)\n",
    "\n",
    "# --- Eliminar columna objetivo en test ---\n",
    "if TARGET in test_df_processed.columns:\n",
    "    test_df_processed = test_df_processed.drop(columns=[TARGET])\n",
    "\n",
    "print(\"Datos preprocesados (lat/long convertidos a float, test sin target).\")"
   ]
  },
  {
   "cell_type": "code",
   "execution_count": 2,
   "id": "bf38a24b",
   "metadata": {},
   "outputs": [
    {
     "ename": "NameError",
     "evalue": "name 'X_train' is not defined",
     "output_type": "error",
     "traceback": [
      "\u001b[31m---------------------------------------------------------------------------\u001b[39m",
      "\u001b[31mNameError\u001b[39m                                 Traceback (most recent call last)",
      "\u001b[36mCell\u001b[39m\u001b[36m \u001b[39m\u001b[32mIn[2]\u001b[39m\u001b[32m, line 3\u001b[39m\n\u001b[32m      1\u001b[39m \u001b[38;5;66;03m# Supongamos que tienes un modelo entrenado\u001b[39;00m\n\u001b[32m      2\u001b[39m modelo = RandomForestClassifier()\n\u001b[32m----> \u001b[39m\u001b[32m3\u001b[39m modelo.fit(\u001b[43mX_train\u001b[49m, y_train)\n\u001b[32m      5\u001b[39m \u001b[38;5;66;03m# Guardarlo\u001b[39;00m\n\u001b[32m      6\u001b[39m \u001b[38;5;28;01mwith\u001b[39;00m \u001b[38;5;28mopen\u001b[39m(\u001b[33m'\u001b[39m\u001b[33mmodelo.pkl\u001b[39m\u001b[33m'\u001b[39m, \u001b[33m'\u001b[39m\u001b[33mwb\u001b[39m\u001b[33m'\u001b[39m) \u001b[38;5;28;01mas\u001b[39;00m f:\n",
      "\u001b[31mNameError\u001b[39m: name 'X_train' is not defined"
     ]
    }
   ],
   "source": [
    "# Supongamos que tienes un modelo entrenado\n",
    "modelo = RandomForestClassifier()\n",
    "modelo.fit(X_train, y_train)\n",
    "\n",
    "# Guardarlo\n",
    "with open('modelo.pkl', 'wb') as f:\n",
    "    pickle.dump(modelo, f)"
   ]
  }
 ],
 "metadata": {
  "kernelspec": {
   "display_name": "Python 3",
   "language": "python",
   "name": "python3"
  },
  "language_info": {
   "codemirror_mode": {
    "name": "ipython",
    "version": 3
   },
   "file_extension": ".py",
   "mimetype": "text/x-python",
   "name": "python",
   "nbconvert_exporter": "python",
   "pygments_lexer": "ipython3",
   "version": "3.12.6"
  }
 },
 "nbformat": 4,
 "nbformat_minor": 5
}
